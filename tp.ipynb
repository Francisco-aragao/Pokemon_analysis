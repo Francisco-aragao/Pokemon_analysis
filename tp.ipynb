{
 "cells": [
  {
   "cell_type": "code",
   "execution_count": 1,
   "metadata": {},
   "outputs": [],
   "source": [
    "import numpy as np\n",
    "import pandas as pd\n",
    "import pysubgroup as ps\n",
    "from mlxtend.frequent_patterns import apriori, association_rules"
   ]
  },
  {
   "cell_type": "code",
   "execution_count": 2,
   "metadata": {},
   "outputs": [],
   "source": [
    "df = pd.read_csv('./Data/tournaments.csv')"
   ]
  },
  {
   "cell_type": "markdown",
   "metadata": {},
   "source": [
    "#### Tratando dataframe"
   ]
  },
  {
   "cell_type": "code",
   "execution_count": 6,
   "metadata": {},
   "outputs": [
    {
     "data": {
      "text/html": [
       "<div>\n",
       "<style scoped>\n",
       "    .dataframe tbody tr th:only-of-type {\n",
       "        vertical-align: middle;\n",
       "    }\n",
       "\n",
       "    .dataframe tbody tr th {\n",
       "        vertical-align: top;\n",
       "    }\n",
       "\n",
       "    .dataframe thead th {\n",
       "        text-align: right;\n",
       "    }\n",
       "</style>\n",
       "<table border=\"1\" class=\"dataframe\">\n",
       "  <thead>\n",
       "    <tr style=\"text-align: right;\">\n",
       "      <th></th>\n",
       "      <th>id_card</th>\n",
       "      <th>name_card</th>\n",
       "      <th>amount_card</th>\n",
       "      <th>price_card</th>\n",
       "      <th>energy_type_card</th>\n",
       "      <th>type_card</th>\n",
       "      <th>combo_type_id</th>\n",
       "      <th>combo_type_name</th>\n",
       "      <th>id_player</th>\n",
       "      <th>name_player</th>\n",
       "      <th>...</th>\n",
       "      <th>region_tournament</th>\n",
       "      <th>country_tournament</th>\n",
       "      <th>year_tournament</th>\n",
       "      <th>month_tournament</th>\n",
       "      <th>day_tournament</th>\n",
       "      <th>valid_rotation_at_tournament</th>\n",
       "      <th>rotation_name</th>\n",
       "      <th>year_begin</th>\n",
       "      <th>month_begin</th>\n",
       "      <th>day_begin</th>\n",
       "    </tr>\n",
       "  </thead>\n",
       "  <tbody>\n",
       "    <tr>\n",
       "      <th>114286</th>\n",
       "      <td>GRI130a</td>\n",
       "      <td>Rescue Stretcher</td>\n",
       "      <td>2</td>\n",
       "      <td>0.72</td>\n",
       "      <td>0</td>\n",
       "      <td>Trainer</td>\n",
       "      <td>47.0</td>\n",
       "      <td>Zoroark Greninja</td>\n",
       "      <td>1900</td>\n",
       "      <td>Jin Woo Lee</td>\n",
       "      <td>...</td>\n",
       "      <td>AS-OC</td>\n",
       "      <td>Korea</td>\n",
       "      <td>2018</td>\n",
       "      <td>12</td>\n",
       "      <td>22</td>\n",
       "      <td>0</td>\n",
       "      <td>standard_2019</td>\n",
       "      <td>2018</td>\n",
       "      <td>8</td>\n",
       "      <td>28</td>\n",
       "    </tr>\n",
       "    <tr>\n",
       "      <th>114287</th>\n",
       "      <td>GRI119</td>\n",
       "      <td>Aqua Patch</td>\n",
       "      <td>2</td>\n",
       "      <td>0.27</td>\n",
       "      <td>0</td>\n",
       "      <td>Trainer</td>\n",
       "      <td>47.0</td>\n",
       "      <td>Zoroark Greninja</td>\n",
       "      <td>1900</td>\n",
       "      <td>Jin Woo Lee</td>\n",
       "      <td>...</td>\n",
       "      <td>AS-OC</td>\n",
       "      <td>Korea</td>\n",
       "      <td>2018</td>\n",
       "      <td>12</td>\n",
       "      <td>22</td>\n",
       "      <td>0</td>\n",
       "      <td>standard_2019</td>\n",
       "      <td>2018</td>\n",
       "      <td>8</td>\n",
       "      <td>28</td>\n",
       "    </tr>\n",
       "    <tr>\n",
       "      <th>114288</th>\n",
       "      <td>FLF092</td>\n",
       "      <td>Pal Pad</td>\n",
       "      <td>1</td>\n",
       "      <td>0.68</td>\n",
       "      <td>0</td>\n",
       "      <td>Trainer</td>\n",
       "      <td>47.0</td>\n",
       "      <td>Zoroark Greninja</td>\n",
       "      <td>1900</td>\n",
       "      <td>Jin Woo Lee</td>\n",
       "      <td>...</td>\n",
       "      <td>AS-OC</td>\n",
       "      <td>Korea</td>\n",
       "      <td>2018</td>\n",
       "      <td>12</td>\n",
       "      <td>22</td>\n",
       "      <td>0</td>\n",
       "      <td>standard_2019</td>\n",
       "      <td>2018</td>\n",
       "      <td>8</td>\n",
       "      <td>28</td>\n",
       "    </tr>\n",
       "    <tr>\n",
       "      <th>114289</th>\n",
       "      <td>GRI121</td>\n",
       "      <td>Choice Band</td>\n",
       "      <td>2</td>\n",
       "      <td>0.20</td>\n",
       "      <td>0</td>\n",
       "      <td>Trainer</td>\n",
       "      <td>47.0</td>\n",
       "      <td>Zoroark Greninja</td>\n",
       "      <td>1900</td>\n",
       "      <td>Jin Woo Lee</td>\n",
       "      <td>...</td>\n",
       "      <td>AS-OC</td>\n",
       "      <td>Korea</td>\n",
       "      <td>2018</td>\n",
       "      <td>12</td>\n",
       "      <td>22</td>\n",
       "      <td>0</td>\n",
       "      <td>standard_2019</td>\n",
       "      <td>2018</td>\n",
       "      <td>8</td>\n",
       "      <td>28</td>\n",
       "    </tr>\n",
       "    <tr>\n",
       "      <th>114290</th>\n",
       "      <td>GRI120</td>\n",
       "      <td>Brooklet Hill</td>\n",
       "      <td>2</td>\n",
       "      <td>0.32</td>\n",
       "      <td>0</td>\n",
       "      <td>Trainer</td>\n",
       "      <td>47.0</td>\n",
       "      <td>Zoroark Greninja</td>\n",
       "      <td>1900</td>\n",
       "      <td>Jin Woo Lee</td>\n",
       "      <td>...</td>\n",
       "      <td>AS-OC</td>\n",
       "      <td>Korea</td>\n",
       "      <td>2018</td>\n",
       "      <td>12</td>\n",
       "      <td>22</td>\n",
       "      <td>0</td>\n",
       "      <td>standard_2019</td>\n",
       "      <td>2018</td>\n",
       "      <td>8</td>\n",
       "      <td>28</td>\n",
       "    </tr>\n",
       "  </tbody>\n",
       "</table>\n",
       "<p>5 rows × 26 columns</p>\n",
       "</div>"
      ],
      "text/plain": [
       "        id_card         name_card  amount_card  price_card energy_type_card   \n",
       "114286  GRI130a  Rescue Stretcher            2        0.72                0  \\\n",
       "114287   GRI119        Aqua Patch            2        0.27                0   \n",
       "114288   FLF092           Pal Pad            1        0.68                0   \n",
       "114289   GRI121       Choice Band            2        0.20                0   \n",
       "114290   GRI120     Brooklet Hill            2        0.32                0   \n",
       "\n",
       "       type_card  combo_type_id   combo_type_name  id_player  name_player   \n",
       "114286   Trainer           47.0  Zoroark Greninja       1900  Jin Woo Lee  \\\n",
       "114287   Trainer           47.0  Zoroark Greninja       1900  Jin Woo Lee   \n",
       "114288   Trainer           47.0  Zoroark Greninja       1900  Jin Woo Lee   \n",
       "114289   Trainer           47.0  Zoroark Greninja       1900  Jin Woo Lee   \n",
       "114290   Trainer           47.0  Zoroark Greninja       1900  Jin Woo Lee   \n",
       "\n",
       "        ... region_tournament  country_tournament  year_tournament   \n",
       "114286  ...             AS-OC               Korea             2018  \\\n",
       "114287  ...             AS-OC               Korea             2018   \n",
       "114288  ...             AS-OC               Korea             2018   \n",
       "114289  ...             AS-OC               Korea             2018   \n",
       "114290  ...             AS-OC               Korea             2018   \n",
       "\n",
       "        month_tournament day_tournament valid_rotation_at_tournament   \n",
       "114286                12             22                            0  \\\n",
       "114287                12             22                            0   \n",
       "114288                12             22                            0   \n",
       "114289                12             22                            0   \n",
       "114290                12             22                            0   \n",
       "\n",
       "        rotation_name year_begin  month_begin  day_begin  \n",
       "114286  standard_2019       2018            8         28  \n",
       "114287  standard_2019       2018            8         28  \n",
       "114288  standard_2019       2018            8         28  \n",
       "114289  standard_2019       2018            8         28  \n",
       "114290  standard_2019       2018            8         28  \n",
       "\n",
       "[5 rows x 26 columns]"
      ]
     },
     "execution_count": 6,
     "metadata": {},
     "output_type": "execute_result"
    }
   ],
   "source": [
    "df.replace(np.nan, 0, inplace=True)\n",
    "df.tail()"
   ]
  },
  {
   "cell_type": "markdown",
   "metadata": {},
   "source": [
    "#### Tentaremos encontrar subgrupos frequentes de cartas que aparecem em torneios diferentes de batalha de cartas pokemon no mesmo ano\n",
    "\n",
    "- Definindo todas as regioes do dataset"
   ]
  },
  {
   "cell_type": "code",
   "execution_count": 4,
   "metadata": {},
   "outputs": [
    {
     "data": {
      "text/plain": [
       "array(['SA', 'EU', 'AS-OC', 'JP'], dtype=object)"
      ]
     },
     "execution_count": 4,
     "metadata": {},
     "output_type": "execute_result"
    }
   ],
   "source": [
    "df = df[df['region_tournament'] != 0]\n",
    "regions = df['region_tournament'].unique()\n",
    "regions"
   ]
  },
  {
   "cell_type": "markdown",
   "metadata": {},
   "source": [
    "- Definindo treinadores com suas cartas para cada regiao e realizando beamsearth para descobrir padroes de cartas utilizadas por jogadores diferentes"
   ]
  },
  {
   "cell_type": "code",
   "execution_count": 5,
   "metadata": {},
   "outputs": [
    {
     "name": "stdout",
     "output_type": "stream",
     "text": [
<<<<<<< HEAD
      "  id_card    name_card  amount_card  price_card energy_type_card type_card  \\\n",
      "0  SSP272     Archeops            4        0.70        Colorless   Pokémon   \n",
      "1  SIT138      Lugia V            3        6.20        Colorless   Pokémon   \n",
      "2  SIT139  Lugia VSTAR            3        8.71        Colorless   Pokémon   \n",
      "3  LOR143      Snorlax            3        0.93        Colorless   Pokémon   \n",
      "4  SSP250   Lumineon V            2        1.90            Water   Pokémon   \n",
      "\n",
      "   combo_type_id combo_type_name  id_player       name_player  ...  \\\n",
      "0          247.0  Lugia Archeops       5101  Alexander Flatos  ...   \n",
      "1          247.0  Lugia Archeops       5101  Alexander Flatos  ...   \n",
      "2          247.0  Lugia Archeops       5101  Alexander Flatos  ...   \n",
      "3          247.0  Lugia Archeops       5101  Alexander Flatos  ...   \n",
      "4          247.0  Lugia Archeops       5101  Alexander Flatos  ...   \n",
      "\n",
      "  region_tournament  country_tournament  year_tournament  month_tournament  \\\n",
      "0               NaN       United States             2023                10   \n",
      "1               NaN       United States             2023                10   \n",
      "2               NaN       United States             2023                10   \n",
      "3               NaN       United States             2023                10   \n",
      "4               NaN       United States             2023                10   \n",
      "\n",
      "  day_tournament valid_rotation_at_tournament  rotation_name year_begin  \\\n",
      "0             14                      BST-OBF  standard_2023       2023   \n",
      "1             14                      BST-OBF  standard_2023       2023   \n",
      "2             14                      BST-OBF  standard_2023       2023   \n",
      "3             14                      BST-OBF  standard_2023       2023   \n",
      "4             14                      BST-OBF  standard_2023       2023   \n",
      "\n",
      "   month_begin  day_begin  \n",
      "0            4         14  \n",
      "1            4         14  \n",
      "2            4         14  \n",
      "3            4         14  \n",
      "4            4         14  \n",
      "\n",
      "[5 rows x 26 columns]\n"
     ]
    }
   ],
   "source": [
    "features = ['id_card']\n",
    "\n",
    "print(df.head())"
   ]
  },
  {
   "cell_type": "code",
   "execution_count": 32,
   "metadata": {},
   "outputs": [
    {
     "ename": "AttributeError",
     "evalue": "module 'pysubgroup' has no attribute 'NominalTarget'",
     "output_type": "error",
     "traceback": [
      "\u001b[0;31m---------------------------------------------------------------------------\u001b[0m",
      "\u001b[0;31mAttributeError\u001b[0m                            Traceback (most recent call last)",
      "Cell \u001b[0;32mIn[32], line 1\u001b[0m\n\u001b[0;32m----> 1\u001b[0m target \u001b[38;5;241m=\u001b[39m \u001b[43mps\u001b[49m\u001b[38;5;241;43m.\u001b[39;49m\u001b[43mNominalTarget\u001b[49m(target) \n\u001b[1;32m      3\u001b[0m searchspace \u001b[38;5;241m=\u001b[39m ps\u001b[38;5;241m.\u001b[39mcreate_selectors(df, ignore\u001b[38;5;241m=\u001b[39m[\u001b[38;5;124m'\u001b[39m\u001b[38;5;124mcombo_type_name\u001b[39m\u001b[38;5;124m'\u001b[39m])\n\u001b[1;32m      4\u001b[0m task \u001b[38;5;241m=\u001b[39m ps\u001b[38;5;241m.\u001b[39mSubgroupDiscoveryTask (\n\u001b[1;32m      5\u001b[0m     df,\n\u001b[1;32m      6\u001b[0m     target,\n\u001b[0;32m   (...)\u001b[0m\n\u001b[1;32m      9\u001b[0m     depth\u001b[38;5;241m=\u001b[39m\u001b[38;5;241m3\u001b[39m,\n\u001b[1;32m     10\u001b[0m     qf\u001b[38;5;241m=\u001b[39mps\u001b[38;5;241m.\u001b[39mWRAccQF())\n",
      "\u001b[0;31mAttributeError\u001b[0m: module 'pysubgroup' has no attribute 'NominalTarget'"
     ]
    }
   ],
   "source": [
    "\n",
    "target = ps.NominalTarget(target) \n",
    "\n",
    "searchspace = ps.create_selectors(df, ignore=['combo_type_name'])\n",
    "task = ps.SubgroupDiscoveryTask (\n",
    "    df,\n",
    "    target,\n",
    "    searchspace,\n",
    "    result_set_size=5,\n",
    "    depth=3,\n",
    "    qf=ps.WRAccQF())\n",
    "result = ps.DFS().execute(task)\n",
    "\n",
    "print(result.to_dataframe())"
   ]
  },
  {
   "cell_type": "code",
   "execution_count": 23,
   "metadata": {},
   "outputs": [
    {
     "name": "stdout",
     "output_type": "stream",
     "text": [
      "<class 'pandas.core.frame.DataFrame'>\n"
=======
      "region: SA\n"
>>>>>>> abcdd5babcc734b4868b394b5b59dc22a19c863f
     ]
    },
    {
     "ename": "ValueError",
     "evalue": "The input DataFrame `df` containing the frequent itemsets is empty.",
     "output_type": "error",
     "traceback": [
      "\u001b[0;31m---------------------------------------------------------------------------\u001b[0m",
      "\u001b[0;31mValueError\u001b[0m                                Traceback (most recent call last)",
      "Cell \u001b[0;32mIn[5], line 29\u001b[0m\n\u001b[1;32m     27\u001b[0m \u001b[38;5;66;03m# Apriori\u001b[39;00m\n\u001b[1;32m     28\u001b[0m frequent_itemsets \u001b[38;5;241m=\u001b[39m apriori(df_jogadores_cartas, min_support\u001b[38;5;241m=\u001b[39m\u001b[38;5;241m0.3\u001b[39m, use_colnames\u001b[38;5;241m=\u001b[39m\u001b[38;5;28;01mTrue\u001b[39;00m)\n\u001b[0;32m---> 29\u001b[0m rules \u001b[38;5;241m=\u001b[39m \u001b[43massociation_rules\u001b[49m\u001b[43m(\u001b[49m\u001b[43mfrequent_itemsets\u001b[49m\u001b[43m,\u001b[49m\u001b[43m \u001b[49m\u001b[43mmetric\u001b[49m\u001b[38;5;241;43m=\u001b[39;49m\u001b[38;5;124;43m\"\u001b[39;49m\u001b[38;5;124;43mconfidence\u001b[39;49m\u001b[38;5;124;43m\"\u001b[39;49m\u001b[43m,\u001b[49m\u001b[43m \u001b[49m\u001b[43mmin_threshold\u001b[49m\u001b[38;5;241;43m=\u001b[39;49m\u001b[38;5;241;43m0.7\u001b[39;49m\u001b[43m)\u001b[49m\n\u001b[1;32m     30\u001b[0m \u001b[38;5;28mprint\u001b[39m(\u001b[38;5;124mf\u001b[39m\u001b[38;5;124m\"\u001b[39m\u001b[38;5;124mTotal de jogadores: \u001b[39m\u001b[38;5;132;01m{\u001b[39;00mquantidade_jogadores\u001b[38;5;132;01m}\u001b[39;00m\u001b[38;5;124m\"\u001b[39m)\n\u001b[1;32m     31\u001b[0m \u001b[38;5;28mprint\u001b[39m(\u001b[38;5;124mf\u001b[39m\u001b[38;5;124m\"\u001b[39m\u001b[38;5;124mFreq. Itemsets: \u001b[39m\u001b[38;5;132;01m{\u001b[39;00mfrequent_itemsets\u001b[38;5;132;01m}\u001b[39;00m\u001b[38;5;124m\"\u001b[39m)\n",
      "File \u001b[0;32m~/.local/lib/python3.10/site-packages/mlxtend/frequent_patterns/association_rules.py:83\u001b[0m, in \u001b[0;36massociation_rules\u001b[0;34m(df, metric, min_threshold, support_only)\u001b[0m\n\u001b[1;32m     18\u001b[0m \u001b[38;5;250m\u001b[39m\u001b[38;5;124;03m\"\"\"Generates a DataFrame of association rules including the\u001b[39;00m\n\u001b[1;32m     19\u001b[0m \u001b[38;5;124;03mmetrics 'score', 'confidence', and 'lift'\u001b[39;00m\n\u001b[1;32m     20\u001b[0m \n\u001b[0;32m   (...)\u001b[0m\n\u001b[1;32m     80\u001b[0m \n\u001b[1;32m     81\u001b[0m \u001b[38;5;124;03m\"\"\"\u001b[39;00m\n\u001b[1;32m     82\u001b[0m \u001b[38;5;28;01mif\u001b[39;00m \u001b[38;5;129;01mnot\u001b[39;00m df\u001b[38;5;241m.\u001b[39mshape[\u001b[38;5;241m0\u001b[39m]:\n\u001b[0;32m---> 83\u001b[0m     \u001b[38;5;28;01mraise\u001b[39;00m \u001b[38;5;167;01mValueError\u001b[39;00m(\n\u001b[1;32m     84\u001b[0m         \u001b[38;5;124m\"\u001b[39m\u001b[38;5;124mThe input DataFrame `df` containing \u001b[39m\u001b[38;5;124m\"\u001b[39m \u001b[38;5;124m\"\u001b[39m\u001b[38;5;124mthe frequent itemsets is empty.\u001b[39m\u001b[38;5;124m\"\u001b[39m\n\u001b[1;32m     85\u001b[0m     )\n\u001b[1;32m     87\u001b[0m \u001b[38;5;66;03m# check for mandatory columns\u001b[39;00m\n\u001b[1;32m     88\u001b[0m \u001b[38;5;28;01mif\u001b[39;00m \u001b[38;5;129;01mnot\u001b[39;00m \u001b[38;5;28mall\u001b[39m(col \u001b[38;5;129;01min\u001b[39;00m df\u001b[38;5;241m.\u001b[39mcolumns \u001b[38;5;28;01mfor\u001b[39;00m col \u001b[38;5;129;01min\u001b[39;00m [\u001b[38;5;124m\"\u001b[39m\u001b[38;5;124msupport\u001b[39m\u001b[38;5;124m\"\u001b[39m, \u001b[38;5;124m\"\u001b[39m\u001b[38;5;124mitemsets\u001b[39m\u001b[38;5;124m\"\u001b[39m]):\n",
      "\u001b[0;31mValueError\u001b[0m: The input DataFrame `df` containing the frequent itemsets is empty."
     ]
    }
   ],
   "source": [
    "# Agrupando cartas de cada jogador no dataset\n",
    "def agrupa_jogador_cartas(df):\n",
    "    dict_jogador_cartas = {}\n",
    "    for _, row in df.iterrows():\n",
    "        if row['name_player'] not in dict_jogador_cartas:\n",
    "            dict_jogador_cartas[row['name_player']] = []\n",
    "        dict_jogador_cartas[row['name_player']].append(row['id_card'])\n",
    "    return len(dict_jogador_cartas), dict_jogador_cartas\n",
    "\n",
    "for region in regions:\n",
    "    print(f\"region: {region}\")\n",
    "    df_region = df[(df['region_tournament'] == region) & (df['year_tournament'] == 2019)]\n",
    "    jogadores = df_region['name_player'].unique()\n",
    "    cartas = df_region['id_card'].unique()\n",
    "    quantidade_jogadores, dict_jogador_cartas = agrupa_jogador_cartas(df_region)\n",
    "    # Cria um dataframe que as colunas sao todas as cartas existentes no dataset\n",
    "    df_jogadores_cartas = pd.DataFrame(columns=cartas)\n",
    "    for jogador in jogadores:\n",
    "        cartas_jogador = dict_jogador_cartas[jogador]\n",
    "        linha = []\n",
    "        for carta in cartas:\n",
    "            if carta in cartas_jogador:\n",
    "                linha.append(True)\n",
    "            else:\n",
    "                linha.append(False)\n",
    "        df_jogadores_cartas.loc[len(df_jogadores_cartas)] = linha\n",
    "    # Apriori\n",
    "    frequent_itemsets = apriori(df_jogadores_cartas, min_support=0.3, use_colnames=True)\n",
    "    frequent_itemsets.sort_values(by='support', ascending=False, inplace=True)\n",
    "    rules = association_rules(frequent_itemsets, metric=\"confidence\", min_threshold=0.7)\n",
    "    print(f\"Total de jogadores: {quantidade_jogadores}\")\n",
    "    print(frequent_itemsets)\n",
    "    print(rules)"
   ]
  },
  {
   "cell_type": "markdown",
   "metadata": {},
   "source": [
    "- Mostrando Resultados para cada regiao\n"
   ]
  }
 ],
 "metadata": {
  "kernelspec": {
   "display_name": "Python 3",
   "language": "python",
   "name": "python3"
  },
  "language_info": {
   "codemirror_mode": {
    "name": "ipython",
    "version": 3
   },
   "file_extension": ".py",
   "mimetype": "text/x-python",
   "name": "python",
   "nbconvert_exporter": "python",
   "pygments_lexer": "ipython3",
   "version": "3.10.12"
  }
 },
 "nbformat": 4,
 "nbformat_minor": 2
}
